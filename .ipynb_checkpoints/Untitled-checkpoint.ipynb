{
 "cells": [
  {
   "cell_type": "code",
   "execution_count": 7,
   "metadata": {
    "collapsed": true
   },
   "outputs": [],
   "source": [
    "import json\n",
    "\n",
    "def parse_output(json_str):\n",
    "    # 解析 JSON 字符串\n",
    "    data = json.loads(json_str)\n",
    "    \n",
    "    # 提取 output 中的 content\n",
    "    content = data.get('output', {}).get('choices', [{}])[0].get('message', {}).get('content', '')\n",
    "    \n",
    "    return content\n",
    "\n",
    "# 测试数据\n",
    "test_json = '{\"status_code\": 200, \"request_id\": \"e10e3fc8-9d04-9b75-9b4e-b81268386516\", \"code\": \"\", \"message\": \"\", \"output\": {\"text\": null, \"finish_reason\": null, \"choices\": [{\"finish_reason\": \"null\", \"message\": {\"role\": \"assistant\", \"content\": \"集团旗下的通义\"}}]}, \"usage\": {\"input_tokens\": 21, \"output_tokens\": 11, \"total_tokens\": 32, \"prompt_tokens_details\": {\"cached_tokens\": 0}}}'"
   ]
  },
  {
   "cell_type": "code",
   "execution_count": 8,
   "metadata": {},
   "outputs": [
    {
     "data": {
      "text/plain": [
       "'集团旗下的通义'"
      ]
     },
     "execution_count": 8,
     "metadata": {},
     "output_type": "execute_result"
    }
   ],
   "source": [
    "json.loads(test_json).get('output', {}).get('choices', [{}])[0].get('message', {}).get('content', '')"
   ]
  }
 ],
 "metadata": {
  "kernelspec": {
   "display_name": "Python 3",
   "language": "python",
   "name": "python3"
  },
  "language_info": {
   "codemirror_mode": {
    "name": "ipython",
    "version": 3
   },
   "file_extension": ".py",
   "mimetype": "text/x-python",
   "name": "python",
   "nbconvert_exporter": "python",
   "pygments_lexer": "ipython3",
   "version": "3.6.3"
  }
 },
 "nbformat": 4,
 "nbformat_minor": 2
}
